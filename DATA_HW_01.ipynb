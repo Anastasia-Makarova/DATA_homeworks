{
  "nbformat": 4,
  "nbformat_minor": 0,
  "metadata": {
    "colab": {
      "provenance": [],
      "authorship_tag": "ABX9TyMmVXBFLGvErhVwN6nfNhjp",
      "include_colab_link": true
    },
    "kernelspec": {
      "name": "python3",
      "display_name": "Python 3"
    },
    "language_info": {
      "name": "python"
    }
  },
  "cells": [
    {
      "cell_type": "markdown",
      "metadata": {
        "id": "view-in-github",
        "colab_type": "text"
      },
      "source": [
        "<a href=\"https://colab.research.google.com/github/Anastasia-Makarova/DATA_homeworks/blob/main/DATA_HW_01.ipynb\" target=\"_parent\"><img src=\"https://colab.research.google.com/assets/colab-badge.svg\" alt=\"Open In Colab\"/></a>"
      ]
    },
    {
      "cell_type": "code",
      "execution_count": null,
      "metadata": {
        "id": "v-r7Ckm57UYG"
      },
      "outputs": [],
      "source": [
        "import numpy as np"
      ]
    },
    {
      "cell_type": "markdown",
      "source": [
        "1.Створіть одновимірний масив (вектор) з першими 10-ма натуральними числами та виведіть його значення."
      ],
      "metadata": {
        "id": "ZIu1a98j7WDD"
      }
    },
    {
      "cell_type": "code",
      "source": [
        "print('\\u001b[34;1m 1.Створіть одновимірний масив (вектор) з першими 10-ма натуральними числами та виведіть його значення. \\u001b[0m\\n')\n",
        "\n",
        "a = np.array([i for i in range(1, 11)], dtype=int)\n",
        "print(a)"
      ],
      "metadata": {
        "id": "m5KdbOXX7nAK",
        "colab": {
          "base_uri": "https://localhost:8080/"
        },
        "outputId": "cef42908-1d20-4b8b-d57e-aaf9b18c684c"
      },
      "execution_count": null,
      "outputs": [
        {
          "output_type": "stream",
          "name": "stdout",
          "text": [
            "\u001b[34;1m 1.Створіть одновимірний масив (вектор) з першими 10-ма натуральними числами та виведіть його значення. \u001b[0m\n",
            "\n",
            "[ 1  2  3  4  5  6  7  8  9 10]\n"
          ]
        }
      ]
    },
    {
      "cell_type": "markdown",
      "source": [
        "2.Створіть двовимірний масив (матрицю) розміром 3x3, заповніть його нулями та виведіть його значення."
      ],
      "metadata": {
        "id": "ZAhMv6V0oUIu"
      }
    },
    {
      "cell_type": "code",
      "source": [
        "print('\\u001b[34;1m 2.Створіть двовимірний масив (матрицю) розміром 3x3, заповніть його нулями та виведіть його значення.\\u001b[0m\\n')\n",
        "\n",
        "b = np.zeros((3, 3), dtype=int)\n",
        "print(b)"
      ],
      "metadata": {
        "colab": {
          "base_uri": "https://localhost:8080/"
        },
        "id": "s5PyjjXy7v6j",
        "outputId": "da289e96-e96d-4ee3-9ac5-7cd54b47faeb"
      },
      "execution_count": null,
      "outputs": [
        {
          "output_type": "stream",
          "name": "stdout",
          "text": [
            "\u001b[34;1m 2.Створіть двовимірний масив (матрицю) розміром 3x3, заповніть його нулями та виведіть його значення.\u001b[0m\n",
            "\n",
            "[[0 0 0]\n",
            " [0 0 0]\n",
            " [0 0 0]]\n"
          ]
        }
      ]
    },
    {
      "cell_type": "markdown",
      "source": [
        "3.Створіть масив розміром 5x5, заповніть його випадковими цілими числами в діапазоні від 1 до 10 та виведіть його значення."
      ],
      "metadata": {
        "id": "FvI6xSoWooYd"
      }
    },
    {
      "cell_type": "code",
      "source": [
        "print('\\u001b[34;1m 3.Створіть масив розміром 5x5, заповніть його випадковими цілими числами в діапазоні від 1 до 10 та виведіть його значення.\\u001b[0m\\n')\n",
        "\n",
        "c = np.random.randint(1, 11, (5, 5), dtype=int)\n",
        "print(c)"
      ],
      "metadata": {
        "colab": {
          "base_uri": "https://localhost:8080/"
        },
        "id": "ftrJmeMFoKDL",
        "outputId": "77708a82-150f-4a5f-eb53-01330b7bad44"
      },
      "execution_count": null,
      "outputs": [
        {
          "output_type": "stream",
          "name": "stdout",
          "text": [
            "\u001b[34;1m 3.Створіть масив розміром 5x5, заповніть його випадковими цілими числами в діапазоні від 1 до 10 та виведіть його значення.\u001b[0m\n",
            "\n",
            "[[1 2 1 3 9]\n",
            " [6 4 5 6 1]\n",
            " [8 4 1 4 6]\n",
            " [4 4 1 1 9]\n",
            " [7 8 7 5 1]]\n"
          ]
        }
      ]
    },
    {
      "cell_type": "markdown",
      "source": [
        "4.Створіть масив розміром 4x4, заповніть його випадковими дійсними числами в діапазоні від 0 до 1 та виведіть його значення."
      ],
      "metadata": {
        "id": "KDLrxAgzpC9V"
      }
    },
    {
      "cell_type": "code",
      "source": [
        "print('\\u001b[34;1m 4.Створіть масив розміром 4x4, заповніть його випадковими дійсними числами в діапазоні від 0 до 1 та виведіть його значення.\\u001b[0m\\n')\n",
        "\n",
        "d = np.random.random((4,4))\n",
        "print(d)"
      ],
      "metadata": {
        "colab": {
          "base_uri": "https://localhost:8080/"
        },
        "id": "I3vZGaUqo2x9",
        "outputId": "d0e2d34b-e73a-4a48-fd6b-28f16a694056"
      },
      "execution_count": null,
      "outputs": [
        {
          "output_type": "stream",
          "name": "stdout",
          "text": [
            "\u001b[34;1m 4.Створіть масив розміром 4x4, заповніть його випадковими дійсними числами в діапазоні від 0 до 1 та виведіть його значення.\u001b[0m\n",
            "\n",
            "[[0.92508395 0.62858134 0.04489849 0.06823715]\n",
            " [0.81873936 0.81021395 0.63228453 0.35463952]\n",
            " [0.09689099 0.83275754 0.80559405 0.3578188 ]\n",
            " [0.93725179 0.6393551  0.36884359 0.22442525]]\n"
          ]
        }
      ]
    },
    {
      "cell_type": "markdown",
      "source": [
        "5.Створіть два одновимірних масиви розміром 5, заповніть їх випадковими цілими числами в діапазоні від 1 до 10 та виконайте на них поелементні операції додавання, віднімання та множення."
      ],
      "metadata": {
        "id": "kPXYpxZ7pHk5"
      }
    },
    {
      "cell_type": "code",
      "source": [
        "print('\\u001b[34;1m 5.Створіть два одновимірних масиви розміром 5, заповніть їх випадковими цілими числами в діапазоні від 1 до 10 та виконайте на них поелементні операції додавання, віднімання та множення.\\u001b[0m\\n')\n",
        "\n",
        "e =  np.random.randint(1, 11, 5, dtype=int)\n",
        "f = np.random.randint(1, 11, 5, dtype=int)\n",
        "\n",
        "print(f'vector_1: {e}')\n",
        "print(f'vector_2: {f}')\n",
        "print(f'addition: {e + f}')\n",
        "print(f'subtraction: {e - f}')\n",
        "print(f'multiplication: {e * f}')"
      ],
      "metadata": {
        "colab": {
          "base_uri": "https://localhost:8080/"
        },
        "id": "Rf9-Rjnfo201",
        "outputId": "91e783e7-6d5b-46b5-d9f7-d4d082ffb0a6"
      },
      "execution_count": null,
      "outputs": [
        {
          "output_type": "stream",
          "name": "stdout",
          "text": [
            "\u001b[34;1m 5.Створіть два одновимірних масиви розміром 5, заповніть їх випадковими цілими числами в діапазоні від 1 до 10 та виконайте на них поелементні операції додавання, віднімання та множення.\u001b[0m\n",
            "\n",
            "vector_1: [3 3 2 5 1]\n",
            "vector_2: [ 7  2 10  2  7]\n",
            "addition: [10  5 12  7  8]\n",
            "subtraction: [-4  1 -8  3 -6]\n",
            "multiplication: [21  6 20 10  7]\n"
          ]
        }
      ]
    },
    {
      "cell_type": "markdown",
      "source": [
        "6. Створіть два вектори розміром 7, заповніть довільними числами та знайдіть їх скалярний добуток."
      ],
      "metadata": {
        "id": "_IRRBC1cpIJr"
      }
    },
    {
      "cell_type": "code",
      "source": [
        "print('\\u001b[34;1m 6.Створіть два вектори розміром 7, заповніть довільними числами та знайдіть їх скалярний добуток.\\u001b[0m\\n')\n",
        "\n",
        "g = np.random.randint(11, size=7, dtype=int)\n",
        "h = np.random.randint(11, size=7, dtype=int)\n",
        "\n",
        "print(f'vector_1: {g}')\n",
        "print(f'vector_2: {h}')\n",
        "print(f'scalar_product: {np.dot(g, h)}')"
      ],
      "metadata": {
        "colab": {
          "base_uri": "https://localhost:8080/"
        },
        "id": "oYfZCw7Ro227",
        "outputId": "232c0708-f19d-48aa-8990-04f3678cdbd7"
      },
      "execution_count": null,
      "outputs": [
        {
          "output_type": "stream",
          "name": "stdout",
          "text": [
            "\u001b[34;1m 6.Створіть два вектори розміром 7, заповніть довільними числами та знайдіть їх скалярний добуток.\u001b[0m\n",
            "\n",
            "vector_1: [ 4  3  9 10  1  3  7]\n",
            "vector_2: [10  8  7  2  1  5  7]\n",
            "scalar_product: 212\n"
          ]
        }
      ]
    },
    {
      "cell_type": "markdown",
      "source": [
        "7. Створіть дві матриці розміром 2x2 та 2x3, заповніть їх випадковими цілими числами в діапазоні від 1 до 10 та перемножте їх між собою."
      ],
      "metadata": {
        "id": "-IClgI8KpIn2"
      }
    },
    {
      "cell_type": "code",
      "source": [
        "print('\\u001b[34;1m 7. Створіть дві матриці розміром 2x2 та 2x3, заповніть їх випадковими цілими числами в діапазоні від 1 до 10 та перемножте їх між собою.\\u001b[0m\\n')\n",
        "\n",
        "i = np.random.randint(1, 11, (2, 2), dtype=int)\n",
        "j = np.random.randint(1, 11, (2, 3), dtype=int)\n",
        "\n",
        "print (f'matrix 1:\\n{i}\\n')\n",
        "print (f'matrix 2:\\n{j}\\n')\n",
        "print(f'multiplicated:\\n{np.dot(i, j)}')"
      ],
      "metadata": {
        "colab": {
          "base_uri": "https://localhost:8080/"
        },
        "id": "7Kk09TOro3Dp",
        "outputId": "262f27da-3d9b-4485-e619-e3c2d6bd0e06"
      },
      "execution_count": null,
      "outputs": [
        {
          "output_type": "stream",
          "name": "stdout",
          "text": [
            "\u001b[34;1m 7. Створіть дві матриці розміром 2x2 та 2x3, заповніть їх випадковими цілими числами в діапазоні від 1 до 10 та перемножте їх між собою.\u001b[0m\n",
            "\n",
            "matrix 1:\n",
            "[[ 5 10]\n",
            " [ 4  5]]\n",
            "\n",
            "matrix 2:\n",
            "[[8 3 1]\n",
            " [6 4 9]]\n",
            "\n",
            "multiplicated:\n",
            "[[100  55  95]\n",
            " [ 62  32  49]]\n"
          ]
        }
      ]
    },
    {
      "cell_type": "markdown",
      "source": [
        "8. Створіть матрицю розміром 3x3, заповніть її випадковими цілими числами в діапазоні від 1 до 10 та знайдіть її обернену матрицю."
      ],
      "metadata": {
        "id": "dLy5bo3IpJJk"
      }
    },
    {
      "cell_type": "code",
      "source": [
        "print('\\u001b[34;1m 8. Створіть матрицю розміром 3x3, заповніть її випадковими цілими числами в діапазоні від 1 до 10 та знайдіть її обернену матрицю.\\u001b[0m\\n')\n",
        "\n",
        "k = np.random.randint(1, 11, (3, 3), dtype=int)\n",
        "print(f'direct matrix:\\n{k}\\n')\n",
        "\n",
        "k_inv = np.linalg.inv(k)\n",
        "print(f'inverted matrix:\\n{k_inv}')"
      ],
      "metadata": {
        "colab": {
          "base_uri": "https://localhost:8080/"
        },
        "id": "_MCaO_eQo3Gx",
        "outputId": "bc01ae12-09ac-4da5-a4db-9b8bfda31352"
      },
      "execution_count": null,
      "outputs": [
        {
          "output_type": "stream",
          "name": "stdout",
          "text": [
            "\u001b[34;1m 8. Створіть матрицю розміром 3x3, заповніть її випадковими цілими числами в діапазоні від 1 до 10 та знайдіть її обернену матрицю.\u001b[0m\n",
            "\n",
            "direct matrix:\n",
            "[[ 7  6  4]\n",
            " [ 9  5  4]\n",
            " [ 7  9 10]]\n",
            "\n",
            "inverted matrix:\n",
            "[[-0.15555556  0.26666667 -0.04444444]\n",
            " [ 0.68888889 -0.46666667 -0.08888889]\n",
            " [-0.51111111  0.23333333  0.21111111]]\n"
          ]
        }
      ]
    },
    {
      "cell_type": "markdown",
      "source": [
        "9. Створіть матрицю розміром 4x4, заповніть її випадковими дійсними числами в діапазоні від 0 до 1 та транспонуйте її."
      ],
      "metadata": {
        "id": "bG2BByl2pkuR"
      }
    },
    {
      "cell_type": "code",
      "source": [
        "print('\\u001b[34;1m 9. Створіть матрицю розміром 4x4, заповніть її випадковими дійсними числами в діапазоні від 0 до 1 та транспонуйте її.\\u001b[0m\\n')\n",
        "\n",
        "l = np.random.random((4, 4))\n",
        "print(f'direct matrix:\\n{l}\\n')\n",
        "\n",
        "l_transp = l.T\n",
        "print(f'transponated matrix:\\n{l_transp}')\n"
      ],
      "metadata": {
        "colab": {
          "base_uri": "https://localhost:8080/"
        },
        "id": "CJBjvkpSo3KQ",
        "outputId": "ed291e11-ce4a-4907-974e-2622db70fd90"
      },
      "execution_count": null,
      "outputs": [
        {
          "output_type": "stream",
          "name": "stdout",
          "text": [
            "\u001b[34;1m 9. Створіть матрицю розміром 4x4, заповніть її випадковими дійсними числами в діапазоні від 0 до 1 та транспонуйте її.\u001b[0m\n",
            "\n",
            "direct matrix:\n",
            "[[0.56799725 0.66132136 0.2900465  0.04149062]\n",
            " [0.28431287 0.73675878 0.87348766 0.29716093]\n",
            " [0.63976329 0.11077685 0.05178915 0.43507927]\n",
            " [0.95931448 0.34906316 0.52127082 0.99512667]]\n",
            "\n",
            "transponated matrix:\n",
            "[[0.56799725 0.28431287 0.63976329 0.95931448]\n",
            " [0.66132136 0.73675878 0.11077685 0.34906316]\n",
            " [0.2900465  0.87348766 0.05178915 0.52127082]\n",
            " [0.04149062 0.29716093 0.43507927 0.99512667]]\n"
          ]
        }
      ]
    },
    {
      "cell_type": "markdown",
      "source": [
        "10. Створіть матрицю розміром 3x4 та вектор розміром 4, заповніть їх випадковими цілими числами в діапазоні від 1 до 10 та перемножте матрицю на вектор."
      ],
      "metadata": {
        "id": "3N86Dl5mpuV2"
      }
    },
    {
      "cell_type": "code",
      "source": [
        "print('\\u001b[34;1m 10. Створіть матрицю розміром 3x4 та вектор розміром 4, заповніть їх випадковими цілими числами в діапазоні від 1 до 10 та перемножте матрицю на вектор.\\u001b[0m\\n')\n",
        "\n",
        "m = np.random.randint(1, 11, (3, 4), dtype=int)\n",
        "print(f'matrix:\\n{m}\\n')\n",
        "\n",
        "n = np.random.randint(1, 11, (4), dtype=int)\n",
        "print(f'vector:\\n{n}\\n')\n",
        "\n",
        "print(f'multiplicated:\\n{np.dot(m, n)}')"
      ],
      "metadata": {
        "colab": {
          "base_uri": "https://localhost:8080/"
        },
        "id": "cnAmmlHyo3NG",
        "outputId": "7ad29a3a-dd0f-4c1d-8606-e007efc5e282"
      },
      "execution_count": null,
      "outputs": [
        {
          "output_type": "stream",
          "name": "stdout",
          "text": [
            "\u001b[34;1m 10. Створіть матрицю розміром 3x4 та вектор розміром 4, заповніть їх випадковими цілими числами в діапазоні від 1 до 10 та перемножте матрицю на вектор.\u001b[0m\n",
            "\n",
            "matrix:\n",
            "[[3 8 9 3]\n",
            " [4 4 1 2]\n",
            " [9 2 7 7]]\n",
            "\n",
            "vector:\n",
            "[3 2 6 3]\n",
            "\n",
            "multiplicated:\n",
            "[88 32 94]\n"
          ]
        }
      ]
    },
    {
      "cell_type": "markdown",
      "source": [
        "11. Створіть матрицю розміром 2x3 та вектор розміром 3, заповніть їх випадковими дійсними числами в діапазоні від 0 до 1 та перемножте матрицю на вектор."
      ],
      "metadata": {
        "id": "LaIID8Yxpx6C"
      }
    },
    {
      "cell_type": "code",
      "source": [
        "print('\\u001b[34;1m 11. Створіть матрицю розміром 2x3 та вектор розміром 3, заповніть їх випадковими дійсними числами в діапазоні від 0 до 1 та перемножте матрицю на вектор.\\u001b[0m\\n')\n",
        "\n",
        "o = np.random.random((2, 3))\n",
        "print(f'matrix:\\n{o}\\n')\n",
        "\n",
        "p = np.random.random((3))\n",
        "print(f'vector:\\n{p}\\n')\n",
        "\n",
        "print(f'multiplicated:\\n{np.dot(o, p)}\\n')"
      ],
      "metadata": {
        "colab": {
          "base_uri": "https://localhost:8080/"
        },
        "id": "6_fWkpXao3P_",
        "outputId": "2f2e553c-f21e-408e-b857-a9f97cb04600"
      },
      "execution_count": null,
      "outputs": [
        {
          "output_type": "stream",
          "name": "stdout",
          "text": [
            "\u001b[34;1m 11. Створіть матрицю розміром 2x3 та вектор розміром 3, заповніть їх випадковими дійсними числами в діапазоні від 0 до 1 та перемножте матрицю на вектор.\u001b[0m\n",
            "\n",
            "matrix:\n",
            "[[0.07721106 0.6541991  0.24008915]\n",
            " [0.25378651 0.75751377 0.45474048]]\n",
            "\n",
            "vector:\n",
            "[0.98280263 0.56018723 0.52709138]\n",
            "\n",
            "multiplicated:\n",
            "[0.56890613 0.91346138]\n",
            "\n"
          ]
        }
      ]
    },
    {
      "cell_type": "markdown",
      "source": [
        "12. Створіть дві матриці розміром 2x2, заповніть їх випадковими цілими числами в діапазоні від 1 до 10 та виконайте їхнє поелементне множення."
      ],
      "metadata": {
        "id": "wuPQeZr5rG_I"
      }
    },
    {
      "cell_type": "code",
      "source": [
        "print('\\u001b[34;1m 12. Створіть дві матриці розміром 2x2, заповніть їх випадковими цілими числами в діапазоні від 1 до 10 та виконайте їхнє поелементне множення.\\u001b[0m\\n')\n",
        "\n",
        "q = np.random.randint(1, 11, (2, 2), dtype=int)\n",
        "print(f'matrix 1:\\n{q}\\n')\n",
        "\n",
        "r = np.random.randint(1, 11, (2, 2), dtype=int)\n",
        "print(f'matrix 2:\\n{r}\\n')\n",
        "\n",
        "print(f'multiplicated:\\n{q*r}')"
      ],
      "metadata": {
        "colab": {
          "base_uri": "https://localhost:8080/"
        },
        "id": "-GNVhMI0o3TP",
        "outputId": "2157ab04-3bde-4dd7-d438-015f9a79d8e5"
      },
      "execution_count": null,
      "outputs": [
        {
          "output_type": "stream",
          "name": "stdout",
          "text": [
            "\u001b[34;1m 12. Створіть дві матриці розміром 2x2, заповніть їх випадковими цілими числами в діапазоні від 1 до 10 та виконайте їхнє поелементне множення.\u001b[0m\n",
            "\n",
            "matrix 1:\n",
            "[[2 3]\n",
            " [3 9]]\n",
            "\n",
            "matrix 2:\n",
            "[[10 10]\n",
            " [ 2  2]]\n",
            "\n",
            "multiplicated:\n",
            "[[20 30]\n",
            " [ 6 18]]\n"
          ]
        }
      ]
    },
    {
      "cell_type": "markdown",
      "source": [
        "13. Створіть дві матриці розміром 2x2, заповніть їх випадковими цілими числами в діапазоні від 1 до 10 та знайдіть їх добуток."
      ],
      "metadata": {
        "id": "5t231VttrMHa"
      }
    },
    {
      "cell_type": "code",
      "source": [
        "print('\\u001b[34;1m 13. Створіть дві матриці розміром 2x2, заповніть їх випадковими цілими числами в діапазоні від 1 до 10 та знайдіть їх добуток.\\u001b[0m\\n')\n",
        "\n",
        "s = np.random.randint(1, 11, (2, 2), dtype=int)\n",
        "t = np.random.randint(1, 11, (2, 2), dtype=int)\n",
        "\n",
        "print (f'matrix 1:\\n{s}\\n')\n",
        "\n",
        "print (f'matrix 2:\\n{t}\\n')\n",
        "\n",
        "print(f'multiplicated:\\n{np.matmul(s, t)}')\n"
      ],
      "metadata": {
        "colab": {
          "base_uri": "https://localhost:8080/"
        },
        "id": "sJUCE-uNo3Wo",
        "outputId": "775a1340-bda7-44cb-8719-5627acf50566"
      },
      "execution_count": null,
      "outputs": [
        {
          "output_type": "stream",
          "name": "stdout",
          "text": [
            "\u001b[34;1m 13. Створіть дві матриці розміром 2x2, заповніть їх випадковими цілими числами в діапазоні від 1 до 10 та знайдіть їх добуток.\u001b[0m\n",
            "\n",
            "matrix 1:\n",
            "[[ 4 10]\n",
            " [ 3 10]]\n",
            "\n",
            "matrix 2:\n",
            "[[10  9]\n",
            " [ 9  9]]\n",
            "\n",
            "multiplicated:\n",
            "[[130 126]\n",
            " [120 117]]\n"
          ]
        }
      ]
    },
    {
      "cell_type": "markdown",
      "source": [
        "14. Створіть матрицю розміром 5x5, заповніть її випадковими цілими числами в діапазоні від 1 до 100 та знайдіть суму елементів матриці."
      ],
      "metadata": {
        "id": "Nbi3ZZ1jrQX3"
      }
    },
    {
      "cell_type": "code",
      "source": [
        "print('\\u001b[34;1m 14. Створіть матрицю розміром 5x5, заповніть її випадковими цілими числами в діапазоні від 1 до 100 та знайдіть суму елементів матриці.\\u001b[0m\\n')\n",
        "\n",
        "u = np.random.randint(1, 101, (5, 5), dtype=int)\n",
        "print (f'matrix:\\n{u}\\n')\n",
        "\n",
        "print(f'sum of elements:\\n{u.sum()}')\n"
      ],
      "metadata": {
        "colab": {
          "base_uri": "https://localhost:8080/"
        },
        "id": "zBAcFXgqo3Zn",
        "outputId": "d9484fcf-ec1b-481c-ffc5-59d1fa9d2cec"
      },
      "execution_count": null,
      "outputs": [
        {
          "output_type": "stream",
          "name": "stdout",
          "text": [
            "\u001b[34;1m 14. Створіть матрицю розміром 5x5, заповніть її випадковими цілими числами в діапазоні від 1 до 100 та знайдіть суму елементів матриці.\u001b[0m\n",
            "\n",
            "matrix:\n",
            "[[64 25  4 72 35]\n",
            " [60 55 24 44 30]\n",
            " [ 8 67 61 54 22]\n",
            " [89 37 63 63 62]\n",
            " [94 74 30 92 42]]\n",
            "\n",
            "sum of elements:\n",
            "1271\n"
          ]
        }
      ]
    },
    {
      "cell_type": "markdown",
      "source": [
        "15. Створіть дві матриці розміром 4x4, заповніть їх випадковими цілими числами в діапазоні від 1 до 10 та знайдіть їхню різницю."
      ],
      "metadata": {
        "id": "5SNwy2dFrUvN"
      }
    },
    {
      "cell_type": "code",
      "source": [
        "print('\\u001b[34;1m 15. Створіть дві матриці розміром 4x4, заповніть їх випадковими цілими числами в діапазоні від 1 до 10 та знайдіть їхню різницю.\\u001b[0m\\n')\n",
        "\n",
        "v = np.random.randint(1, 11, (4, 4), dtype=int)\n",
        "w = np.random.randint(1, 11, (4, 4), dtype=int)\n",
        "\n",
        "print (f'matrix 1:\\n{v}\\n')\n",
        "\n",
        "print (f'matrix 2:\\n{w}\\n')\n",
        "\n",
        "print(f'substraction:\\n{v - w}')\n"
      ],
      "metadata": {
        "colab": {
          "base_uri": "https://localhost:8080/"
        },
        "id": "pt2BzMsDo3c8",
        "outputId": "6159dcc5-c04e-4659-f656-5396f9b859b0"
      },
      "execution_count": null,
      "outputs": [
        {
          "output_type": "stream",
          "name": "stdout",
          "text": [
            "\u001b[34;1m 15. Створіть дві матриці розміром 4x4, заповніть їх випадковими цілими числами в діапазоні від 1 до 10 та знайдіть їхню різницю.\u001b[0m\n",
            "\n",
            "matrix 1:\n",
            "[[ 4  7 10  7]\n",
            " [ 1  3  5  2]\n",
            " [ 1  8  4 10]\n",
            " [ 6  2  9  4]]\n",
            "\n",
            "matrix 2:\n",
            "[[ 3  8  4  6]\n",
            " [ 6  7  8  1]\n",
            " [10  9  4  2]\n",
            " [ 8  8  6  5]]\n",
            "\n",
            "substraction:\n",
            "[[ 1 -1  6  1]\n",
            " [-5 -4 -3  1]\n",
            " [-9 -1  0  8]\n",
            " [-2 -6  3 -1]]\n"
          ]
        }
      ]
    },
    {
      "cell_type": "markdown",
      "source": [
        "16. Створіть матрицю розміром 3x3, заповніть її випадковими дійсними числами в діапазоні від 0 до 1 та знайдіть вектор-стовпчик, що містить суму елементів кожного рядка матриці."
      ],
      "metadata": {
        "id": "cV6X9Xu9rgPY"
      }
    },
    {
      "cell_type": "code",
      "source": [
        "print('\\u001b[34;1m 16. Створіть матрицю розміром 3x3, заповніть її випадковими дійсними числами в діапазоні від 0 до 1 та знайдіть вектор-стовпчик, що містить суму елементів кожного рядка матриці.\\u001b[0m\\n')\n",
        "\n",
        "x = np.random.random((3, 3))\n",
        "print(f'matrix:\\n{x}\\n')\n",
        "\n",
        "x_vect = np.array([[line.sum()] for line in x])\n",
        "print(f'vector:\\n{x_vect}\\n')\n"
      ],
      "metadata": {
        "colab": {
          "base_uri": "https://localhost:8080/"
        },
        "id": "_Rrfcncdp80Q",
        "outputId": "bbd1ad11-bafb-469b-c2d7-bb1d5aaaa976"
      },
      "execution_count": null,
      "outputs": [
        {
          "output_type": "stream",
          "name": "stdout",
          "text": [
            "\u001b[34;1m 16. Створіть матрицю розміром 3x3, заповніть її випадковими дійсними числами в діапазоні від 0 до 1 та знайдіть вектор-стовпчик, що містить суму елементів кожного рядка матриці.\u001b[0m\n",
            "\n",
            "matrix:\n",
            "[[0.41466005 0.86273369 0.02300789]\n",
            " [0.86260936 0.9002304  0.76807923]\n",
            " [0.4991445  0.28642756 0.17069164]]\n",
            "\n",
            "vector:\n",
            "[[1.30040162]\n",
            " [2.53091899]\n",
            " [0.9562637 ]]\n",
            "\n"
          ]
        }
      ]
    },
    {
      "cell_type": "markdown",
      "source": [
        "17. Створіть матрицю розміром 3x4 з довільними цілими числами і створінь матрицю з квадратами цих чисел."
      ],
      "metadata": {
        "id": "RLyuYRakroCO"
      }
    },
    {
      "cell_type": "code",
      "source": [
        "print('\\u001b[34;1m 17. Створіть матрицю розміром 3x4 з довільними цілими числами і створінь матрицю з квадратами цих чисел.\\u001b[0m\\n')\n",
        "\n",
        "\n",
        "y = np.random.randint(1, 11, (3, 4), dtype=int)\n",
        "print (f'matrix:\\n{y}\\n')\n",
        "\n",
        "y_pow = np.power(y, 2)\n",
        "print(f'squares:\\n{y_pow}\\n')\n"
      ],
      "metadata": {
        "colab": {
          "base_uri": "https://localhost:8080/"
        },
        "id": "vR_IQsw7p8_-",
        "outputId": "e3033fdc-6c96-4aca-aacf-a5420f02fd82"
      },
      "execution_count": null,
      "outputs": [
        {
          "output_type": "stream",
          "name": "stdout",
          "text": [
            "\u001b[34;1m 17. Створіть матрицю розміром 3x4 з довільними цілими числами і створінь матрицю з квадратами цих чисел.\u001b[0m\n",
            "\n",
            "matrix:\n",
            "[[ 2 10  9  3]\n",
            " [ 2  1  3  5]\n",
            " [ 1 10  1  1]]\n",
            "\n",
            "squares:\n",
            "[[  4 100  81   9]\n",
            " [  4   1   9  25]\n",
            " [  1 100   1   1]]\n",
            "\n"
          ]
        }
      ]
    },
    {
      "cell_type": "markdown",
      "source": [
        "18. Створіть вектор розміром 4, заповніть його випадковими цілими числами в діапазоні від 1 до 50 та знайдіть вектор з квадратними коренями цих чисел."
      ],
      "metadata": {
        "id": "aMmGeq8Mropc"
      }
    },
    {
      "cell_type": "code",
      "source": [
        "print('\\u001b[34;1m 18. Створіть вектор розміром 4, заповніть його випадковими цілими числами в діапазоні від 1 до 50 та знайдіть вектор з квадратними коренями цих чисел.\\u001b[0m\\n')\n",
        "\n",
        "z = np.random.randint(1, 51, (4), dtype=int)\n",
        "print (f'vector:\\n{z}\\n')\n",
        "\n",
        "z_sqrt = np.sqrt(z)\n",
        "print(f'square roots:\\n{z_sqrt}\\n')\n"
      ],
      "metadata": {
        "colab": {
          "base_uri": "https://localhost:8080/"
        },
        "id": "wBLSOulgp9cg",
        "outputId": "09dbe53c-5213-431c-a932-aa437c12522c"
      },
      "execution_count": null,
      "outputs": [
        {
          "output_type": "stream",
          "name": "stdout",
          "text": [
            "\u001b[34;1m 18. Створіть вектор розміром 4, заповніть його випадковими цілими числами в діапазоні від 1 до 50 та знайдіть вектор з квадратними коренями цих чисел.\u001b[0m\n",
            "\n",
            "vector:\n",
            "[ 3 20 46 17]\n",
            "\n",
            "square roots:\n",
            "[1.73205081 4.47213595 6.78232998 4.12310563]\n",
            "\n"
          ]
        }
      ]
    }
  ]
}